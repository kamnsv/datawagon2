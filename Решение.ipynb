{
 "cells": [
  {
   "cell_type": "markdown",
   "id": "e94efe00-32b9-4875-8ac0-f5ca55360265",
   "metadata": {},
   "source": [
    "## Import ##"
   ]
  },
  {
   "cell_type": "code",
   "execution_count": 1,
   "id": "4071c87d-dae9-4251-bc99-934f45c0f90c",
   "metadata": {
    "ExecuteTime": {
     "end_time": "2023-10-30T12:12:44.453550500Z",
     "start_time": "2023-10-30T12:12:31.873323700Z"
    },
    "collapsed": false,
    "jupyter": {
     "outputs_hidden": false
    }
   },
   "outputs": [],
   "source": [
    "import pandas as pd\n",
    "import numpy as np"
   ]
  },
  {
   "cell_type": "code",
   "execution_count": 2,
   "id": "88883cc2-fa3b-4784-a241-23f22b15255d",
   "metadata": {},
   "outputs": [],
   "source": [
    "from sklearn.preprocessing import LabelEncoder\n",
    "from sklearn.model_selection import train_test_split, cross_val_score, StratifiedKFold\n",
    "from metrics_f1 import calc_f1_score\n",
    "from sklearn.metrics import roc_curve,auc"
   ]
  },
  {
   "cell_type": "code",
   "execution_count": 3,
   "id": "ef1378ea-9e4f-464a-b85c-31e91043cbe2",
   "metadata": {},
   "outputs": [],
   "source": [
    "from catboost import CatBoostClassifier"
   ]
  },
  {
   "cell_type": "code",
   "execution_count": 4,
   "id": "f223a115-2a72-490b-a5ec-c7aa26ef4483",
   "metadata": {},
   "outputs": [],
   "source": [
    "from matplotlib import pyplot as plt\n",
    "import seaborn as sns\n",
    "import plotly.express as ex"
   ]
  },
  {
   "cell_type": "code",
   "execution_count": 5,
   "id": "ebfe79cb-c50c-4a54-b659-ea73294f77f3",
   "metadata": {},
   "outputs": [],
   "source": [
    "#consts\n",
    "\n",
    "random_seed = 222"
   ]
  },
  {
   "cell_type": "markdown",
   "id": "3075679c-f2a9-4665-bf04-d2b503afa6dd",
   "metadata": {},
   "source": [
    "#### Данные для работы ####"
   ]
  },
  {
   "cell_type": "code",
   "execution_count": 6,
   "id": "935c2523-29f2-4266-839e-fdc6bbd61ed9",
   "metadata": {},
   "outputs": [],
   "source": [
    "res_df = pd.read_parquet('Xy_ver0_71.parquet')"
   ]
  },
  {
   "cell_type": "code",
   "execution_count": 9,
   "id": "4acef292-20b0-4337-a1fb-9279651bd168",
   "metadata": {
    "collapsed": true,
    "jupyter": {
     "outputs_hidden": true
    },
    "tags": []
   },
   "outputs": [
    {
     "name": "stdout",
     "output_type": "stream",
     "text": [
      "<class 'pandas.core.frame.DataFrame'>\n",
      "DatetimeIndex: 14387388 entries, 2022-08-01 to 2023-02-28\n",
      "Data columns (total 65 columns):\n",
      " #   Column               Non-Null Count     Dtype  \n",
      "---  ------               --------------     -----  \n",
      " 0   wagnum               14387388 non-null  Int64  \n",
      " 1   target_month         14387388 non-null  Int64  \n",
      " 2   target_day           14387388 non-null  Int64  \n",
      " 3   date                 14387388 non-null  int64  \n",
      " 4   plan_date            14387388 non-null  int64  \n",
      " 5   date_kap             14387388 non-null  int64  \n",
      " 6   date_dep             14387388 non-null  int64  \n",
      " 7   kod_vrab             14387388 non-null  Int64  \n",
      " 8   date_pl_rem          14387388 non-null  int64  \n",
      " 9   id_road_disl         14387388 non-null  Int64  \n",
      " 10  st_id_dest           14387388 non-null  Int64  \n",
      " 11  id_road_dest         14387388 non-null  Int64  \n",
      " 12  st_id_send           14387388 non-null  Int64  \n",
      " 13  id_road_send         14387388 non-null  Int64  \n",
      " 14  ost_prob             14387388 non-null  Int64  \n",
      " 15  isload               14387388 non-null  Int64  \n",
      " 16  fr_id                14387388 non-null  Int64  \n",
      " 17  last_fr_id           14387388 non-null  Int64  \n",
      " 18  distance             14387388 non-null  Int64  \n",
      " 19  model                14387388 non-null  int64  \n",
      " 20  rod_id               14387388 non-null  Int64  \n",
      " 21  gruz                 14387388 non-null  Int64  \n",
      " 22  cnsi_gruz_capacity   14387388 non-null  Int64  \n",
      " 23  cnsi_volumek         14387388 non-null  Float64\n",
      " 24  tara                 14387388 non-null  Int64  \n",
      " 25  date_build           14387388 non-null  int64  \n",
      " 26  srok_sl              14387388 non-null  int64  \n",
      " 27  zavod_build          14387388 non-null  Int64  \n",
      " 28  date_iskl            14387388 non-null  int64  \n",
      " 29  cnsi_probeg_dr       14387388 non-null  Int64  \n",
      " 30  cnsi_probeg_kr       14387388 non-null  Int64  \n",
      " 31  kuzov                14387388 non-null  Int64  \n",
      " 32  telega               14387388 non-null  Int64  \n",
      " 33  tormoz               14387388 non-null  Int64  \n",
      " 34  tipvozd              14387388 non-null  int64  \n",
      " 35  tippogl              14387388 non-null  Int64  \n",
      " 36  norma_km             14387388 non-null  Int64  \n",
      " 37  ownertype            14387388 non-null  Int64  \n",
      " 38  week_no              14387388 non-null  UInt32 \n",
      " 39  year                 14387388 non-null  UInt32 \n",
      " 40  month                14387388 non-null  int32  \n",
      " 41  is_covid             14387388 non-null  boolean\n",
      " 42  is_lockdown          14387388 non-null  boolean\n",
      " 43  is_covid_peak        14387388 non-null  boolean\n",
      " 44  is_covid_dis_peak    14387388 non-null  boolean\n",
      " 45  public_holidays      14387388 non-null  boolean\n",
      " 46  is_crisis            14387388 non-null  boolean\n",
      " 47  operation_date_dttm  14387388 non-null  int64  \n",
      " 48  mileage_all          44230 non-null     Int64  \n",
      " 49  axl1_l_w_flange      44700 non-null     Float64\n",
      " 50  axl1_r_w_flange      44686 non-null     Float64\n",
      " 51  axl2_l_w_flange      44692 non-null     Float64\n",
      " 52  axl2_r_w_flange      44684 non-null     Float64\n",
      " 53  axl3_l_w_flange      44690 non-null     Float64\n",
      " 54  axl3_r_w_flange      44682 non-null     Float64\n",
      " 55  axl4_l_w_flange      44694 non-null     Float64\n",
      " 56  axl4_r_w_flange      44700 non-null     Float64\n",
      " 57  axl1_l_w_rim         44442 non-null     Float64\n",
      " 58  axl1_r_w_rim         44460 non-null     Float64\n",
      " 59  axl2_l_w_rim         44460 non-null     Float64\n",
      " 60  axl2_r_w_rim         44454 non-null     Float64\n",
      " 61  axl3_l_w_rim         44370 non-null     Float64\n",
      " 62  axl3_r_w_rim         44414 non-null     Float64\n",
      " 63  axl4_l_w_rim         44482 non-null     Float64\n",
      " 64  axl4_r_w_rim         44504 non-null     Float64\n",
      "dtypes: Float64(17), Int64(28), UInt32(2), boolean(6), int32(1), int64(11)\n",
      "memory usage: 7.1 GB\n"
     ]
    }
   ],
   "source": [
    "res_df.info(show_counts=True)"
   ]
  },
  {
   "cell_type": "code",
   "execution_count": 11,
   "id": "8192f0de-e633-496e-af09-2eaf92c93e89",
   "metadata": {},
   "outputs": [
    {
     "data": {
      "text/html": [
       "<div>\n",
       "<style scoped>\n",
       "    .dataframe tbody tr th:only-of-type {\n",
       "        vertical-align: middle;\n",
       "    }\n",
       "\n",
       "    .dataframe tbody tr th {\n",
       "        vertical-align: top;\n",
       "    }\n",
       "\n",
       "    .dataframe thead th {\n",
       "        text-align: right;\n",
       "    }\n",
       "</style>\n",
       "<table border=\"1\" class=\"dataframe\">\n",
       "  <thead>\n",
       "    <tr style=\"text-align: right;\">\n",
       "      <th></th>\n",
       "      <th>wagnum</th>\n",
       "      <th>target_month</th>\n",
       "      <th>target_day</th>\n",
       "      <th>date</th>\n",
       "      <th>plan_date</th>\n",
       "      <th>date_kap</th>\n",
       "      <th>date_dep</th>\n",
       "      <th>kod_vrab</th>\n",
       "      <th>date_pl_rem</th>\n",
       "      <th>id_road_disl</th>\n",
       "      <th>...</th>\n",
       "      <th>axl4_l_w_flange</th>\n",
       "      <th>axl4_r_w_flange</th>\n",
       "      <th>axl1_l_w_rim</th>\n",
       "      <th>axl1_r_w_rim</th>\n",
       "      <th>axl2_l_w_rim</th>\n",
       "      <th>axl2_r_w_rim</th>\n",
       "      <th>axl3_l_w_rim</th>\n",
       "      <th>axl3_r_w_rim</th>\n",
       "      <th>axl4_l_w_rim</th>\n",
       "      <th>axl4_r_w_rim</th>\n",
       "    </tr>\n",
       "    <tr>\n",
       "      <th>date</th>\n",
       "      <th></th>\n",
       "      <th></th>\n",
       "      <th></th>\n",
       "      <th></th>\n",
       "      <th></th>\n",
       "      <th></th>\n",
       "      <th></th>\n",
       "      <th></th>\n",
       "      <th></th>\n",
       "      <th></th>\n",
       "      <th></th>\n",
       "      <th></th>\n",
       "      <th></th>\n",
       "      <th></th>\n",
       "      <th></th>\n",
       "      <th></th>\n",
       "      <th></th>\n",
       "      <th></th>\n",
       "      <th></th>\n",
       "      <th></th>\n",
       "      <th></th>\n",
       "    </tr>\n",
       "  </thead>\n",
       "  <tbody>\n",
       "    <tr>\n",
       "      <th>2022-08-01</th>\n",
       "      <td>0</td>\n",
       "      <td>0</td>\n",
       "      <td>0</td>\n",
       "      <td>1659312000000000000</td>\n",
       "      <td>1659312000000000000</td>\n",
       "      <td>1375660800000000000</td>\n",
       "      <td>1588723200000000000</td>\n",
       "      <td>0</td>\n",
       "      <td>1683331200000000000</td>\n",
       "      <td>44</td>\n",
       "      <td>...</td>\n",
       "      <td>&lt;NA&gt;</td>\n",
       "      <td>&lt;NA&gt;</td>\n",
       "      <td>&lt;NA&gt;</td>\n",
       "      <td>&lt;NA&gt;</td>\n",
       "      <td>&lt;NA&gt;</td>\n",
       "      <td>&lt;NA&gt;</td>\n",
       "      <td>&lt;NA&gt;</td>\n",
       "      <td>&lt;NA&gt;</td>\n",
       "      <td>&lt;NA&gt;</td>\n",
       "      <td>&lt;NA&gt;</td>\n",
       "    </tr>\n",
       "    <tr>\n",
       "      <th>2022-08-01</th>\n",
       "      <td>0</td>\n",
       "      <td>0</td>\n",
       "      <td>0</td>\n",
       "      <td>1659312000000000000</td>\n",
       "      <td>1659312000000000000</td>\n",
       "      <td>1375660800000000000</td>\n",
       "      <td>1588723200000000000</td>\n",
       "      <td>0</td>\n",
       "      <td>1683331200000000000</td>\n",
       "      <td>44</td>\n",
       "      <td>...</td>\n",
       "      <td>&lt;NA&gt;</td>\n",
       "      <td>&lt;NA&gt;</td>\n",
       "      <td>&lt;NA&gt;</td>\n",
       "      <td>&lt;NA&gt;</td>\n",
       "      <td>&lt;NA&gt;</td>\n",
       "      <td>&lt;NA&gt;</td>\n",
       "      <td>&lt;NA&gt;</td>\n",
       "      <td>&lt;NA&gt;</td>\n",
       "      <td>&lt;NA&gt;</td>\n",
       "      <td>&lt;NA&gt;</td>\n",
       "    </tr>\n",
       "    <tr>\n",
       "      <th>2022-08-01</th>\n",
       "      <td>1</td>\n",
       "      <td>0</td>\n",
       "      <td>0</td>\n",
       "      <td>1659312000000000000</td>\n",
       "      <td>1659312000000000000</td>\n",
       "      <td>1632873600000000000</td>\n",
       "      <td>1539388800000000000</td>\n",
       "      <td>2</td>\n",
       "      <td>1719792000000000000</td>\n",
       "      <td>30</td>\n",
       "      <td>...</td>\n",
       "      <td>&lt;NA&gt;</td>\n",
       "      <td>&lt;NA&gt;</td>\n",
       "      <td>&lt;NA&gt;</td>\n",
       "      <td>&lt;NA&gt;</td>\n",
       "      <td>&lt;NA&gt;</td>\n",
       "      <td>&lt;NA&gt;</td>\n",
       "      <td>&lt;NA&gt;</td>\n",
       "      <td>&lt;NA&gt;</td>\n",
       "      <td>&lt;NA&gt;</td>\n",
       "      <td>&lt;NA&gt;</td>\n",
       "    </tr>\n",
       "    <tr>\n",
       "      <th>2022-08-01</th>\n",
       "      <td>1</td>\n",
       "      <td>0</td>\n",
       "      <td>0</td>\n",
       "      <td>1659312000000000000</td>\n",
       "      <td>1659312000000000000</td>\n",
       "      <td>1632873600000000000</td>\n",
       "      <td>1539388800000000000</td>\n",
       "      <td>2</td>\n",
       "      <td>1719792000000000000</td>\n",
       "      <td>30</td>\n",
       "      <td>...</td>\n",
       "      <td>&lt;NA&gt;</td>\n",
       "      <td>&lt;NA&gt;</td>\n",
       "      <td>&lt;NA&gt;</td>\n",
       "      <td>&lt;NA&gt;</td>\n",
       "      <td>&lt;NA&gt;</td>\n",
       "      <td>&lt;NA&gt;</td>\n",
       "      <td>&lt;NA&gt;</td>\n",
       "      <td>&lt;NA&gt;</td>\n",
       "      <td>&lt;NA&gt;</td>\n",
       "      <td>&lt;NA&gt;</td>\n",
       "    </tr>\n",
       "    <tr>\n",
       "      <th>2022-08-01</th>\n",
       "      <td>2</td>\n",
       "      <td>0</td>\n",
       "      <td>0</td>\n",
       "      <td>1659312000000000000</td>\n",
       "      <td>1659312000000000000</td>\n",
       "      <td>1235865600000000000</td>\n",
       "      <td>1633478400000000000</td>\n",
       "      <td>2</td>\n",
       "      <td>1724025600000000000</td>\n",
       "      <td>15</td>\n",
       "      <td>...</td>\n",
       "      <td>&lt;NA&gt;</td>\n",
       "      <td>&lt;NA&gt;</td>\n",
       "      <td>&lt;NA&gt;</td>\n",
       "      <td>&lt;NA&gt;</td>\n",
       "      <td>&lt;NA&gt;</td>\n",
       "      <td>&lt;NA&gt;</td>\n",
       "      <td>&lt;NA&gt;</td>\n",
       "      <td>&lt;NA&gt;</td>\n",
       "      <td>&lt;NA&gt;</td>\n",
       "      <td>&lt;NA&gt;</td>\n",
       "    </tr>\n",
       "  </tbody>\n",
       "</table>\n",
       "<p>5 rows × 65 columns</p>\n",
       "</div>"
      ],
      "text/plain": [
       "            wagnum  target_month  target_day                 date  \\\n",
       "date                                                                \n",
       "2022-08-01       0             0           0  1659312000000000000   \n",
       "2022-08-01       0             0           0  1659312000000000000   \n",
       "2022-08-01       1             0           0  1659312000000000000   \n",
       "2022-08-01       1             0           0  1659312000000000000   \n",
       "2022-08-01       2             0           0  1659312000000000000   \n",
       "\n",
       "                      plan_date             date_kap             date_dep  \\\n",
       "date                                                                        \n",
       "2022-08-01  1659312000000000000  1375660800000000000  1588723200000000000   \n",
       "2022-08-01  1659312000000000000  1375660800000000000  1588723200000000000   \n",
       "2022-08-01  1659312000000000000  1632873600000000000  1539388800000000000   \n",
       "2022-08-01  1659312000000000000  1632873600000000000  1539388800000000000   \n",
       "2022-08-01  1659312000000000000  1235865600000000000  1633478400000000000   \n",
       "\n",
       "            kod_vrab          date_pl_rem  id_road_disl  ...  axl4_l_w_flange  \\\n",
       "date                                                     ...                    \n",
       "2022-08-01         0  1683331200000000000            44  ...             <NA>   \n",
       "2022-08-01         0  1683331200000000000            44  ...             <NA>   \n",
       "2022-08-01         2  1719792000000000000            30  ...             <NA>   \n",
       "2022-08-01         2  1719792000000000000            30  ...             <NA>   \n",
       "2022-08-01         2  1724025600000000000            15  ...             <NA>   \n",
       "\n",
       "            axl4_r_w_flange  axl1_l_w_rim  axl1_r_w_rim  axl2_l_w_rim  \\\n",
       "date                                                                    \n",
       "2022-08-01             <NA>          <NA>          <NA>          <NA>   \n",
       "2022-08-01             <NA>          <NA>          <NA>          <NA>   \n",
       "2022-08-01             <NA>          <NA>          <NA>          <NA>   \n",
       "2022-08-01             <NA>          <NA>          <NA>          <NA>   \n",
       "2022-08-01             <NA>          <NA>          <NA>          <NA>   \n",
       "\n",
       "            axl2_r_w_rim  axl3_l_w_rim  axl3_r_w_rim  axl4_l_w_rim  \\\n",
       "date                                                                 \n",
       "2022-08-01          <NA>          <NA>          <NA>          <NA>   \n",
       "2022-08-01          <NA>          <NA>          <NA>          <NA>   \n",
       "2022-08-01          <NA>          <NA>          <NA>          <NA>   \n",
       "2022-08-01          <NA>          <NA>          <NA>          <NA>   \n",
       "2022-08-01          <NA>          <NA>          <NA>          <NA>   \n",
       "\n",
       "            axl4_r_w_rim  \n",
       "date                      \n",
       "2022-08-01          <NA>  \n",
       "2022-08-01          <NA>  \n",
       "2022-08-01          <NA>  \n",
       "2022-08-01          <NA>  \n",
       "2022-08-01          <NA>  \n",
       "\n",
       "[5 rows x 65 columns]"
      ]
     },
     "execution_count": 11,
     "metadata": {},
     "output_type": "execute_result"
    }
   ],
   "source": [
    "res_df.head()"
   ]
  },
  {
   "cell_type": "markdown",
   "id": "78b39959-8f4b-440d-807a-bc8bbd56b9e1",
   "metadata": {},
   "source": [
    "#### Preproc ####"
   ]
  },
  {
   "cell_type": "code",
   "execution_count": 7,
   "id": "17d60d80-7a87-43c9-ae2d-66e7182a6f19",
   "metadata": {
    "tags": []
   },
   "outputs": [],
   "source": [
    "#res_df = res_df.fillna(value = res_df.median())\n",
    "res_df = res_df.sort_index()"
   ]
  },
  {
   "cell_type": "code",
   "execution_count": 8,
   "id": "b0bab8be-d8de-4130-9e1b-3142e6b8bdc3",
   "metadata": {},
   "outputs": [],
   "source": [
    "res_df = res_df.fillna(value = 0)"
   ]
  },
  {
   "cell_type": "markdown",
   "id": "19d359f4-02af-4086-b873-3f02cf0022b2",
   "metadata": {},
   "source": [
    "##### Сдвиг меток на 1 месяц назад #####"
   ]
  },
  {
   "cell_type": "code",
   "execution_count": 9,
   "id": "c4528033-bd33-4125-9bc9-e8d2d9f4d8fc",
   "metadata": {},
   "outputs": [],
   "source": [
    "res_df['target_month'] = np.array(res_df.target_month.shift(periods=-1, freq=\"M\"))\n",
    "res_df['target_day'] = np.array(res_df.target_day.shift(periods=-1, freq=\"M\"))"
   ]
  },
  {
   "cell_type": "markdown",
   "id": "5e05abc3-5647-4f76-a580-d5e042d2e7ba",
   "metadata": {
    "jp-MarkdownHeadingCollapsed": true,
    "tags": []
   },
   "source": [
    "##### Доп фичи #####"
   ]
  },
  {
   "cell_type": "code",
   "execution_count": 12,
   "id": "03a94b76-3b95-455c-9f8d-92ec27933bda",
   "metadata": {},
   "outputs": [],
   "source": [
    "res_df['week_no'] = res_df.index.isocalendar().week\n",
    "res_df['year'] = res_df.index.isocalendar().year\n",
    "res_df['month']=res_df.index.month\n",
    "res_df['is_covid']=(res_df['year']==2020)&(res_df['month']>2)|(res_df['year']==2021)&(res_df['month']==1)\n",
    "res_df['is_lockdown']=(res_df['year']==2020)&((res_df['month'].isin([3,4])))\n",
    "res_df['is_covid_peak']=(res_df['year']==2020)&((res_df['month'].isin([4,5,6])))\n",
    "res_df['is_covid_dis_peak']=(res_df['year']==2021)&((res_df['month'].isin([7,8,9])))\n",
    "res_df['public_holidays']=(res_df['week_no'].isin([0,1,53]))\n",
    "res_df['is_crisis']=(res_df['year']==2022)&(res_df['month']>2)|(res_df['year']==2023)"
   ]
  },
  {
   "cell_type": "code",
   "execution_count": 31,
   "id": "c9bce71b-5a85-44d4-abfd-4b4972f018e6",
   "metadata": {
    "collapsed": true,
    "jupyter": {
     "outputs_hidden": true
    },
    "tags": []
   },
   "outputs": [
    {
     "data": {
      "text/html": [
       "<div>\n",
       "<style scoped>\n",
       "    .dataframe tbody tr th:only-of-type {\n",
       "        vertical-align: middle;\n",
       "    }\n",
       "\n",
       "    .dataframe tbody tr th {\n",
       "        vertical-align: top;\n",
       "    }\n",
       "\n",
       "    .dataframe thead th {\n",
       "        text-align: right;\n",
       "    }\n",
       "</style>\n",
       "<table border=\"1\" class=\"dataframe\">\n",
       "  <thead>\n",
       "    <tr style=\"text-align: right;\">\n",
       "      <th></th>\n",
       "      <th>wagnum</th>\n",
       "      <th>target_month</th>\n",
       "      <th>target_day</th>\n",
       "      <th>date</th>\n",
       "      <th>plan_date</th>\n",
       "      <th>date_kap</th>\n",
       "      <th>date_dep</th>\n",
       "      <th>kod_vrab</th>\n",
       "      <th>date_pl_rem</th>\n",
       "      <th>id_road_disl</th>\n",
       "      <th>...</th>\n",
       "      <th>ownertype</th>\n",
       "      <th>week_no</th>\n",
       "      <th>year</th>\n",
       "      <th>month</th>\n",
       "      <th>is_covid</th>\n",
       "      <th>is_lockdown</th>\n",
       "      <th>is_covid_peak</th>\n",
       "      <th>is_covid_dis_peak</th>\n",
       "      <th>public_holidays</th>\n",
       "      <th>is_crisis</th>\n",
       "    </tr>\n",
       "    <tr>\n",
       "      <th>date</th>\n",
       "      <th></th>\n",
       "      <th></th>\n",
       "      <th></th>\n",
       "      <th></th>\n",
       "      <th></th>\n",
       "      <th></th>\n",
       "      <th></th>\n",
       "      <th></th>\n",
       "      <th></th>\n",
       "      <th></th>\n",
       "      <th></th>\n",
       "      <th></th>\n",
       "      <th></th>\n",
       "      <th></th>\n",
       "      <th></th>\n",
       "      <th></th>\n",
       "      <th></th>\n",
       "      <th></th>\n",
       "      <th></th>\n",
       "      <th></th>\n",
       "      <th></th>\n",
       "    </tr>\n",
       "  </thead>\n",
       "  <tbody>\n",
       "    <tr>\n",
       "      <th>2022-08-01</th>\n",
       "      <td>26318</td>\n",
       "      <td>1</td>\n",
       "      <td>0</td>\n",
       "      <td>1659312000000000000</td>\n",
       "      <td>1659312000000000000</td>\n",
       "      <td>1448409600000000000</td>\n",
       "      <td>1582329600000000000</td>\n",
       "      <td>2</td>\n",
       "      <td>1672531200000000000</td>\n",
       "      <td>38</td>\n",
       "      <td>...</td>\n",
       "      <td>0</td>\n",
       "      <td>31</td>\n",
       "      <td>2022</td>\n",
       "      <td>8</td>\n",
       "      <td>False</td>\n",
       "      <td>False</td>\n",
       "      <td>False</td>\n",
       "      <td>False</td>\n",
       "      <td>False</td>\n",
       "      <td>True</td>\n",
       "    </tr>\n",
       "    <tr>\n",
       "      <th>2022-08-01</th>\n",
       "      <td>13886</td>\n",
       "      <td>0</td>\n",
       "      <td>0</td>\n",
       "      <td>1659312000000000000</td>\n",
       "      <td>1659312000000000000</td>\n",
       "      <td>1493164800000000000</td>\n",
       "      <td>1624492800000000000</td>\n",
       "      <td>0</td>\n",
       "      <td>1719187200000000000</td>\n",
       "      <td>28</td>\n",
       "      <td>...</td>\n",
       "      <td>0</td>\n",
       "      <td>31</td>\n",
       "      <td>2022</td>\n",
       "      <td>8</td>\n",
       "      <td>False</td>\n",
       "      <td>False</td>\n",
       "      <td>False</td>\n",
       "      <td>False</td>\n",
       "      <td>False</td>\n",
       "      <td>True</td>\n",
       "    </tr>\n",
       "    <tr>\n",
       "      <th>2022-08-01</th>\n",
       "      <td>7506</td>\n",
       "      <td>0</td>\n",
       "      <td>0</td>\n",
       "      <td>1659312000000000000</td>\n",
       "      <td>1659312000000000000</td>\n",
       "      <td>1302566400000000000</td>\n",
       "      <td>1570492800000000000</td>\n",
       "      <td>0</td>\n",
       "      <td>1665187200000000000</td>\n",
       "      <td>25</td>\n",
       "      <td>...</td>\n",
       "      <td>0</td>\n",
       "      <td>31</td>\n",
       "      <td>2022</td>\n",
       "      <td>8</td>\n",
       "      <td>False</td>\n",
       "      <td>False</td>\n",
       "      <td>False</td>\n",
       "      <td>False</td>\n",
       "      <td>False</td>\n",
       "      <td>True</td>\n",
       "    </tr>\n",
       "    <tr>\n",
       "      <th>2022-08-01</th>\n",
       "      <td>22343</td>\n",
       "      <td>0</td>\n",
       "      <td>0</td>\n",
       "      <td>1659312000000000000</td>\n",
       "      <td>1659312000000000000</td>\n",
       "      <td>1618012800000000000</td>\n",
       "      <td>1558396800000000000</td>\n",
       "      <td>0</td>\n",
       "      <td>1712707200000000000</td>\n",
       "      <td>16</td>\n",
       "      <td>...</td>\n",
       "      <td>0</td>\n",
       "      <td>31</td>\n",
       "      <td>2022</td>\n",
       "      <td>8</td>\n",
       "      <td>False</td>\n",
       "      <td>False</td>\n",
       "      <td>False</td>\n",
       "      <td>False</td>\n",
       "      <td>False</td>\n",
       "      <td>True</td>\n",
       "    </tr>\n",
       "    <tr>\n",
       "      <th>2022-08-01</th>\n",
       "      <td>7104</td>\n",
       "      <td>0</td>\n",
       "      <td>0</td>\n",
       "      <td>1659312000000000000</td>\n",
       "      <td>1659312000000000000</td>\n",
       "      <td>1607040000000000000</td>\n",
       "      <td>1512000000000000000</td>\n",
       "      <td>0</td>\n",
       "      <td>1701648000000000000</td>\n",
       "      <td>42</td>\n",
       "      <td>...</td>\n",
       "      <td>0</td>\n",
       "      <td>31</td>\n",
       "      <td>2022</td>\n",
       "      <td>8</td>\n",
       "      <td>False</td>\n",
       "      <td>False</td>\n",
       "      <td>False</td>\n",
       "      <td>False</td>\n",
       "      <td>False</td>\n",
       "      <td>True</td>\n",
       "    </tr>\n",
       "    <tr>\n",
       "      <th>...</th>\n",
       "      <td>...</td>\n",
       "      <td>...</td>\n",
       "      <td>...</td>\n",
       "      <td>...</td>\n",
       "      <td>...</td>\n",
       "      <td>...</td>\n",
       "      <td>...</td>\n",
       "      <td>...</td>\n",
       "      <td>...</td>\n",
       "      <td>...</td>\n",
       "      <td>...</td>\n",
       "      <td>...</td>\n",
       "      <td>...</td>\n",
       "      <td>...</td>\n",
       "      <td>...</td>\n",
       "      <td>...</td>\n",
       "      <td>...</td>\n",
       "      <td>...</td>\n",
       "      <td>...</td>\n",
       "      <td>...</td>\n",
       "      <td>...</td>\n",
       "    </tr>\n",
       "    <tr>\n",
       "      <th>2023-02-28</th>\n",
       "      <td>7023</td>\n",
       "      <td>0</td>\n",
       "      <td>0</td>\n",
       "      <td>1677542400000000000</td>\n",
       "      <td>1677542400000000000</td>\n",
       "      <td>1614384000000000000</td>\n",
       "      <td>1521590400000000000</td>\n",
       "      <td>0</td>\n",
       "      <td>1708992000000000000</td>\n",
       "      <td>30</td>\n",
       "      <td>...</td>\n",
       "      <td>0</td>\n",
       "      <td>9</td>\n",
       "      <td>2023</td>\n",
       "      <td>2</td>\n",
       "      <td>False</td>\n",
       "      <td>False</td>\n",
       "      <td>False</td>\n",
       "      <td>False</td>\n",
       "      <td>False</td>\n",
       "      <td>True</td>\n",
       "    </tr>\n",
       "    <tr>\n",
       "      <th>2023-02-28</th>\n",
       "      <td>8721</td>\n",
       "      <td>0</td>\n",
       "      <td>0</td>\n",
       "      <td>1677542400000000000</td>\n",
       "      <td>1677542400000000000</td>\n",
       "      <td>1577491200000000000</td>\n",
       "      <td>1486166400000000000</td>\n",
       "      <td>0</td>\n",
       "      <td>1672185600000000000</td>\n",
       "      <td>15</td>\n",
       "      <td>...</td>\n",
       "      <td>0</td>\n",
       "      <td>9</td>\n",
       "      <td>2023</td>\n",
       "      <td>2</td>\n",
       "      <td>False</td>\n",
       "      <td>False</td>\n",
       "      <td>False</td>\n",
       "      <td>False</td>\n",
       "      <td>False</td>\n",
       "      <td>True</td>\n",
       "    </tr>\n",
       "    <tr>\n",
       "      <th>2023-02-28</th>\n",
       "      <td>14906</td>\n",
       "      <td>0</td>\n",
       "      <td>0</td>\n",
       "      <td>1677542400000000000</td>\n",
       "      <td>1677542400000000000</td>\n",
       "      <td>1474416000000000000</td>\n",
       "      <td>1588204800000000000</td>\n",
       "      <td>0</td>\n",
       "      <td>1682812800000000000</td>\n",
       "      <td>25</td>\n",
       "      <td>...</td>\n",
       "      <td>0</td>\n",
       "      <td>9</td>\n",
       "      <td>2023</td>\n",
       "      <td>2</td>\n",
       "      <td>False</td>\n",
       "      <td>False</td>\n",
       "      <td>False</td>\n",
       "      <td>False</td>\n",
       "      <td>False</td>\n",
       "      <td>True</td>\n",
       "    </tr>\n",
       "    <tr>\n",
       "      <th>2023-02-28</th>\n",
       "      <td>15166</td>\n",
       "      <td>0</td>\n",
       "      <td>0</td>\n",
       "      <td>1677542400000000000</td>\n",
       "      <td>1677542400000000000</td>\n",
       "      <td>1519776000000000000</td>\n",
       "      <td>1582848000000000000</td>\n",
       "      <td>0</td>\n",
       "      <td>1677542400000000000</td>\n",
       "      <td>31</td>\n",
       "      <td>...</td>\n",
       "      <td>0</td>\n",
       "      <td>9</td>\n",
       "      <td>2023</td>\n",
       "      <td>2</td>\n",
       "      <td>False</td>\n",
       "      <td>False</td>\n",
       "      <td>False</td>\n",
       "      <td>False</td>\n",
       "      <td>False</td>\n",
       "      <td>True</td>\n",
       "    </tr>\n",
       "    <tr>\n",
       "      <th>2023-02-28</th>\n",
       "      <td>18914</td>\n",
       "      <td>0</td>\n",
       "      <td>0</td>\n",
       "      <td>1677542400000000000</td>\n",
       "      <td>1677542400000000000</td>\n",
       "      <td>1560470400000000000</td>\n",
       "      <td>1622073600000000000</td>\n",
       "      <td>0</td>\n",
       "      <td>1716768000000000000</td>\n",
       "      <td>38</td>\n",
       "      <td>...</td>\n",
       "      <td>0</td>\n",
       "      <td>9</td>\n",
       "      <td>2023</td>\n",
       "      <td>2</td>\n",
       "      <td>False</td>\n",
       "      <td>False</td>\n",
       "      <td>False</td>\n",
       "      <td>False</td>\n",
       "      <td>False</td>\n",
       "      <td>True</td>\n",
       "    </tr>\n",
       "  </tbody>\n",
       "</table>\n",
       "<p>14387388 rows × 47 columns</p>\n",
       "</div>"
      ],
      "text/plain": [
       "            wagnum target_month target_day                 date  \\\n",
       "date                                                              \n",
       "2022-08-01   26318            1          0  1659312000000000000   \n",
       "2022-08-01   13886            0          0  1659312000000000000   \n",
       "2022-08-01    7506            0          0  1659312000000000000   \n",
       "2022-08-01   22343            0          0  1659312000000000000   \n",
       "2022-08-01    7104            0          0  1659312000000000000   \n",
       "...            ...          ...        ...                  ...   \n",
       "2023-02-28    7023            0          0  1677542400000000000   \n",
       "2023-02-28    8721            0          0  1677542400000000000   \n",
       "2023-02-28   14906            0          0  1677542400000000000   \n",
       "2023-02-28   15166            0          0  1677542400000000000   \n",
       "2023-02-28   18914            0          0  1677542400000000000   \n",
       "\n",
       "                      plan_date             date_kap             date_dep  \\\n",
       "date                                                                        \n",
       "2022-08-01  1659312000000000000  1448409600000000000  1582329600000000000   \n",
       "2022-08-01  1659312000000000000  1493164800000000000  1624492800000000000   \n",
       "2022-08-01  1659312000000000000  1302566400000000000  1570492800000000000   \n",
       "2022-08-01  1659312000000000000  1618012800000000000  1558396800000000000   \n",
       "2022-08-01  1659312000000000000  1607040000000000000  1512000000000000000   \n",
       "...                         ...                  ...                  ...   \n",
       "2023-02-28  1677542400000000000  1614384000000000000  1521590400000000000   \n",
       "2023-02-28  1677542400000000000  1577491200000000000  1486166400000000000   \n",
       "2023-02-28  1677542400000000000  1474416000000000000  1588204800000000000   \n",
       "2023-02-28  1677542400000000000  1519776000000000000  1582848000000000000   \n",
       "2023-02-28  1677542400000000000  1560470400000000000  1622073600000000000   \n",
       "\n",
       "            kod_vrab          date_pl_rem  id_road_disl  ...  ownertype  \\\n",
       "date                                                     ...              \n",
       "2022-08-01         2  1672531200000000000            38  ...          0   \n",
       "2022-08-01         0  1719187200000000000            28  ...          0   \n",
       "2022-08-01         0  1665187200000000000            25  ...          0   \n",
       "2022-08-01         0  1712707200000000000            16  ...          0   \n",
       "2022-08-01         0  1701648000000000000            42  ...          0   \n",
       "...              ...                  ...           ...  ...        ...   \n",
       "2023-02-28         0  1708992000000000000            30  ...          0   \n",
       "2023-02-28         0  1672185600000000000            15  ...          0   \n",
       "2023-02-28         0  1682812800000000000            25  ...          0   \n",
       "2023-02-28         0  1677542400000000000            31  ...          0   \n",
       "2023-02-28         0  1716768000000000000            38  ...          0   \n",
       "\n",
       "            week_no  year  month  is_covid  is_lockdown  is_covid_peak  \\\n",
       "date                                                                     \n",
       "2022-08-01       31  2022      8     False        False          False   \n",
       "2022-08-01       31  2022      8     False        False          False   \n",
       "2022-08-01       31  2022      8     False        False          False   \n",
       "2022-08-01       31  2022      8     False        False          False   \n",
       "2022-08-01       31  2022      8     False        False          False   \n",
       "...             ...   ...    ...       ...          ...            ...   \n",
       "2023-02-28        9  2023      2     False        False          False   \n",
       "2023-02-28        9  2023      2     False        False          False   \n",
       "2023-02-28        9  2023      2     False        False          False   \n",
       "2023-02-28        9  2023      2     False        False          False   \n",
       "2023-02-28        9  2023      2     False        False          False   \n",
       "\n",
       "            is_covid_dis_peak  public_holidays  is_crisis  \n",
       "date                                                       \n",
       "2022-08-01              False            False       True  \n",
       "2022-08-01              False            False       True  \n",
       "2022-08-01              False            False       True  \n",
       "2022-08-01              False            False       True  \n",
       "2022-08-01              False            False       True  \n",
       "...                       ...              ...        ...  \n",
       "2023-02-28              False            False       True  \n",
       "2023-02-28              False            False       True  \n",
       "2023-02-28              False            False       True  \n",
       "2023-02-28              False            False       True  \n",
       "2023-02-28              False            False       True  \n",
       "\n",
       "[14387388 rows x 47 columns]"
      ]
     },
     "execution_count": 31,
     "metadata": {},
     "output_type": "execute_result"
    }
   ],
   "source": [
    "res_df"
   ]
  },
  {
   "cell_type": "markdown",
   "id": "913d6e47-ea1f-4089-b910-6f5043ca0855",
   "metadata": {},
   "source": [
    "##### Split #####"
   ]
  },
  {
   "cell_type": "code",
   "execution_count": 10,
   "id": "9297522e-b7d9-42ff-a89c-714e0162690b",
   "metadata": {
    "tags": []
   },
   "outputs": [],
   "source": [
    "X_train, y_train = (res_df.iloc[:8900000].drop(columns=['target_month','target_day']), \n",
    "                res_df.iloc[:8900000][['target_month','target_day']])"
   ]
  },
  {
   "cell_type": "code",
   "execution_count": 11,
   "id": "66c40009-79a1-4d14-88be-556fe098989c",
   "metadata": {
    "tags": []
   },
   "outputs": [],
   "source": [
    "X_val, y_val = (res_df.iloc[8900000:12499768].drop(columns=['target_month','target_day']), \n",
    "                res_df.iloc[8900000:12499768][['target_month','target_day']])"
   ]
  },
  {
   "cell_type": "code",
   "execution_count": 12,
   "id": "6329fde7-37fd-4ff1-b69b-4472f5485ad0",
   "metadata": {},
   "outputs": [],
   "source": [
    "X_test, y_test = (res_df.iloc[12499768:].drop(columns=['target_month','target_day']), \n",
    "                res_df.iloc[12499768:][['target_month','target_day']])"
   ]
  },
  {
   "cell_type": "code",
   "execution_count": 31,
   "id": "872ff47b-0ce6-4ab2-9dd4-71fc18d4af25",
   "metadata": {},
   "outputs": [
    {
     "data": {
      "text/plain": [
       "target_day\n",
       "0    8839052\n",
       "1      60948\n",
       "Name: target_day, dtype: int64"
      ]
     },
     "execution_count": 31,
     "metadata": {},
     "output_type": "execute_result"
    }
   ],
   "source": [
    "y_train['target_day'].groupby(y_train['target_day']).count()"
   ]
  },
  {
   "cell_type": "code",
   "execution_count": 51,
   "id": "6a28749a-23a4-48cd-b664-cd4ea7d6dee5",
   "metadata": {},
   "outputs": [
    {
     "data": {
      "text/plain": [
       "145.05248043060865"
      ]
     },
     "execution_count": 51,
     "metadata": {},
     "output_type": "execute_result"
    }
   ],
   "source": [
    "8839063 / 60937"
   ]
  },
  {
   "cell_type": "code",
   "execution_count": 52,
   "id": "60d9cbe4-f775-4039-b907-e8df69da1aa7",
   "metadata": {},
   "outputs": [
    {
     "data": {
      "text/plain": [
       "target_day\n",
       "0    3577545\n",
       "1      12455\n",
       "Name: target_day, dtype: int64"
      ]
     },
     "execution_count": 52,
     "metadata": {},
     "output_type": "execute_result"
    }
   ],
   "source": [
    "y_val['target_day'].groupby(y_val['target_day']).count()"
   ]
  },
  {
   "cell_type": "code",
   "execution_count": 53,
   "id": "0ff0e67c-e3b4-4a53-bef1-4e8d9ed600e7",
   "metadata": {},
   "outputs": [
    {
     "data": {
      "text/plain": [
       "287.23765556001604"
      ]
     },
     "execution_count": 53,
     "metadata": {},
     "output_type": "execute_result"
    }
   ],
   "source": [
    "3577545 / 12455"
   ]
  },
  {
   "cell_type": "code",
   "execution_count": 55,
   "id": "b09360e6-70aa-47d6-a966-c3236475f8a6",
   "metadata": {},
   "outputs": [
    {
     "data": {
      "text/plain": [
       "target_day\n",
       "0    1885156\n",
       "1      12232\n",
       "Name: target_day, dtype: int64"
      ]
     },
     "execution_count": 55,
     "metadata": {},
     "output_type": "execute_result"
    }
   ],
   "source": [
    "y_test['target_day'].groupby(y_test['target_day']).count()"
   ]
  },
  {
   "cell_type": "code",
   "execution_count": 56,
   "id": "ca8b0bfb-e529-412b-886b-b40732cb78f5",
   "metadata": {},
   "outputs": [
    {
     "data": {
      "text/plain": [
       "154.11674296926097"
      ]
     },
     "execution_count": 56,
     "metadata": {},
     "output_type": "execute_result"
    }
   ],
   "source": [
    "1885156 / 12232"
   ]
  },
  {
   "cell_type": "markdown",
   "id": "8dd7ff96-5d86-400d-8634-f53bc4096c2e",
   "metadata": {},
   "source": [
    "##### Models testing #####"
   ]
  },
  {
   "cell_type": "markdown",
   "id": "9d827bab-ba12-41c4-afce-3607e43ca34e",
   "metadata": {},
   "source": [
    "###### Model - target_day ######"
   ]
  },
  {
   "cell_type": "code",
   "execution_count": 13,
   "id": "6d44dc70-c558-4f95-b090-24eaebf0a67b",
   "metadata": {},
   "outputs": [
    {
     "data": {
      "application/vnd.jupyter.widget-view+json": {
       "model_id": "0bf1a052c4be46908e0d0d68177ee7f7",
       "version_major": 2,
       "version_minor": 0
      },
      "text/plain": [
       "MetricVisualizer(layout=Layout(align_self='stretch', height='500px'))"
      ]
     },
     "metadata": {},
     "output_type": "display_data"
    },
    {
     "data": {
      "text/plain": [
       "<catboost.core.CatBoostClassifier at 0x2a032baf640>"
      ]
     },
     "execution_count": 13,
     "metadata": {},
     "output_type": "execute_result"
    }
   ],
   "source": [
    "cbc1 = CatBoostClassifier(iterations=500, random_seed=random_seed, eval_metric='F1', task_type='GPU', class_weights={0:1, 1:145})\n",
    "cbc1.fit(X_train, y_train['target_day'], eval_set=(X_val, y_val['target_day']), \n",
    "         early_stopping_rounds=100,  \n",
    "         verbose = 0, plot = True, \n",
    "         use_best_model = True)"
   ]
  },
  {
   "cell_type": "markdown",
   "id": "d2aa8321-5ee5-4f99-bfe4-532a7d01ffea",
   "metadata": {},
   "source": [
    "###### Features importances ######"
   ]
  },
  {
   "cell_type": "code",
   "execution_count": 14,
   "id": "2eda8b53-6d53-4ba7-b139-080b436fa49f",
   "metadata": {},
   "outputs": [
    {
     "data": {
      "text/plain": [
       "array(['ost_prob', 'date_pl_rem', 'fr_id', 'plan_date', 'date'],\n",
       "      dtype='<U32')"
      ]
     },
     "execution_count": 14,
     "metadata": {},
     "output_type": "execute_result"
    }
   ],
   "source": [
    "dct_feat = {k:v for k,v in zip(cbc1.feature_names_,cbc1.feature_importances_)}\n",
    "feats = np.array(sorted({k:v for k,v in dct_feat.items() if (v > 5)}.items(), key = lambda x: x[1], reverse = True))[:,0]\n",
    "feats"
   ]
  },
  {
   "cell_type": "markdown",
   "id": "3a70623b-ce30-46fc-b22b-f4fae0b6ae07",
   "metadata": {},
   "source": [
    "###### Save model ######"
   ]
  },
  {
   "cell_type": "code",
   "execution_count": 15,
   "id": "3b514230-a403-4ddb-b6bd-88cf3ec5e054",
   "metadata": {},
   "outputs": [],
   "source": [
    "cbc1.save_model('cbc1_87f1_shift_1M_days_12_11_01_56')"
   ]
  },
  {
   "cell_type": "code",
   "execution_count": 61,
   "id": "10a16d2a-fe7f-47e7-85cf-c2842ecb52bb",
   "metadata": {},
   "outputs": [],
   "source": [
    "#model = CatBoostClassifier()\n",
    "#model.load_model('cbc1_87f1_shit_1M')"
   ]
  },
  {
   "cell_type": "markdown",
   "id": "f277f7fb-4fa7-4ed7-8ead-4241f799ef39",
   "metadata": {},
   "source": [
    "###### Submit res (days) ######"
   ]
  },
  {
   "cell_type": "code",
   "execution_count": 16,
   "id": "99664dec-83cc-4a79-94a9-5e037e860d4a",
   "metadata": {},
   "outputs": [],
   "source": [
    "submission_days = cbc1.predict(X_test)"
   ]
  },
  {
   "cell_type": "code",
   "execution_count": 17,
   "id": "fb4a4ef2-4a19-4d5b-a5c5-ff3b69e195c7",
   "metadata": {},
   "outputs": [],
   "source": [
    "submission_days = pd.DataFrame(submission_days, index = X_test.index, columns = ['target_day'])"
   ]
  },
  {
   "cell_type": "code",
   "execution_count": 18,
   "id": "010117b0-5ef4-4b7c-af13-76eadf480b80",
   "metadata": {},
   "outputs": [],
   "source": [
    "submission_days = pd.concat([submission_days, X_test['wagnum']], axis = 1)"
   ]
  },
  {
   "cell_type": "code",
   "execution_count": 19,
   "id": "45c5f6dc-7cab-477a-8b32-1dcb02df8c49",
   "metadata": {
    "tags": []
   },
   "outputs": [
    {
     "data": {
      "text/html": [
       "<div>\n",
       "<style scoped>\n",
       "    .dataframe tbody tr th:only-of-type {\n",
       "        vertical-align: middle;\n",
       "    }\n",
       "\n",
       "    .dataframe tbody tr th {\n",
       "        vertical-align: top;\n",
       "    }\n",
       "\n",
       "    .dataframe thead th {\n",
       "        text-align: right;\n",
       "    }\n",
       "</style>\n",
       "<table border=\"1\" class=\"dataframe\">\n",
       "  <thead>\n",
       "    <tr style=\"text-align: right;\">\n",
       "      <th></th>\n",
       "      <th>target_day</th>\n",
       "      <th>wagnum</th>\n",
       "    </tr>\n",
       "    <tr>\n",
       "      <th>date</th>\n",
       "      <th></th>\n",
       "      <th></th>\n",
       "    </tr>\n",
       "  </thead>\n",
       "  <tbody>\n",
       "    <tr>\n",
       "      <th>2023-02-01</th>\n",
       "      <td>0</td>\n",
       "      <td>0</td>\n",
       "    </tr>\n",
       "    <tr>\n",
       "      <th>2023-02-01</th>\n",
       "      <td>0</td>\n",
       "      <td>0</td>\n",
       "    </tr>\n",
       "    <tr>\n",
       "      <th>2023-02-01</th>\n",
       "      <td>0</td>\n",
       "      <td>1</td>\n",
       "    </tr>\n",
       "    <tr>\n",
       "      <th>2023-02-01</th>\n",
       "      <td>0</td>\n",
       "      <td>1</td>\n",
       "    </tr>\n",
       "    <tr>\n",
       "      <th>2023-02-01</th>\n",
       "      <td>0</td>\n",
       "      <td>2</td>\n",
       "    </tr>\n",
       "    <tr>\n",
       "      <th>...</th>\n",
       "      <td>...</td>\n",
       "      <td>...</td>\n",
       "    </tr>\n",
       "    <tr>\n",
       "      <th>2023-02-28</th>\n",
       "      <td>0</td>\n",
       "      <td>33974</td>\n",
       "    </tr>\n",
       "    <tr>\n",
       "      <th>2023-02-28</th>\n",
       "      <td>0</td>\n",
       "      <td>33975</td>\n",
       "    </tr>\n",
       "    <tr>\n",
       "      <th>2023-02-28</th>\n",
       "      <td>0</td>\n",
       "      <td>33975</td>\n",
       "    </tr>\n",
       "    <tr>\n",
       "      <th>2023-02-28</th>\n",
       "      <td>0</td>\n",
       "      <td>33976</td>\n",
       "    </tr>\n",
       "    <tr>\n",
       "      <th>2023-02-28</th>\n",
       "      <td>0</td>\n",
       "      <td>33976</td>\n",
       "    </tr>\n",
       "  </tbody>\n",
       "</table>\n",
       "<p>1887620 rows × 2 columns</p>\n",
       "</div>"
      ],
      "text/plain": [
       "            target_day  wagnum\n",
       "date                          \n",
       "2023-02-01           0       0\n",
       "2023-02-01           0       0\n",
       "2023-02-01           0       1\n",
       "2023-02-01           0       1\n",
       "2023-02-01           0       2\n",
       "...                ...     ...\n",
       "2023-02-28           0   33974\n",
       "2023-02-28           0   33975\n",
       "2023-02-28           0   33975\n",
       "2023-02-28           0   33976\n",
       "2023-02-28           0   33976\n",
       "\n",
       "[1887620 rows x 2 columns]"
      ]
     },
     "execution_count": 19,
     "metadata": {},
     "output_type": "execute_result"
    }
   ],
   "source": [
    "submission_days"
   ]
  },
  {
   "cell_type": "markdown",
   "id": "2166c1f5-88ea-4851-a3ac-223cb0a54355",
   "metadata": {},
   "source": [
    "###### Model - target_month ######"
   ]
  },
  {
   "cell_type": "code",
   "execution_count": 67,
   "id": "6cf8ac3d-7ccc-4456-a810-042cc874b90a",
   "metadata": {},
   "outputs": [
    {
     "data": {
      "text/plain": [
       "target_month\n",
       "0    8428890\n",
       "1     471110\n",
       "Name: target_month, dtype: int64"
      ]
     },
     "execution_count": 67,
     "metadata": {},
     "output_type": "execute_result"
    }
   ],
   "source": [
    "y_train['target_month'].groupby(y_train['target_month']).count()"
   ]
  },
  {
   "cell_type": "code",
   "execution_count": 70,
   "id": "4850197d-9178-4b7c-87c4-e5937d32555d",
   "metadata": {},
   "outputs": [
    {
     "data": {
      "text/plain": [
       "17.891553989514126"
      ]
     },
     "execution_count": 70,
     "metadata": {},
     "output_type": "execute_result"
    }
   ],
   "source": [
    "8428890 / 471110"
   ]
  },
  {
   "cell_type": "code",
   "execution_count": 68,
   "id": "1f8ecea3-6441-406b-82f2-4cfb5292e7c0",
   "metadata": {},
   "outputs": [
    {
     "data": {
      "text/plain": [
       "target_day\n",
       "0    3577545\n",
       "1      12455\n",
       "Name: target_day, dtype: int64"
      ]
     },
     "execution_count": 68,
     "metadata": {},
     "output_type": "execute_result"
    }
   ],
   "source": [
    "y_val['target_day'].groupby(y_val['target_day']).count()"
   ]
  },
  {
   "cell_type": "code",
   "execution_count": 71,
   "id": "cef10d85-3a46-42f7-b639-8587c9b14b54",
   "metadata": {},
   "outputs": [
    {
     "data": {
      "text/plain": [
       "287.23765556001604"
      ]
     },
     "execution_count": 71,
     "metadata": {},
     "output_type": "execute_result"
    }
   ],
   "source": [
    "3577545 / 12455"
   ]
  },
  {
   "cell_type": "code",
   "execution_count": 69,
   "id": "fa91d938-7877-4301-b8c0-10f5fdbd35be",
   "metadata": {},
   "outputs": [
    {
     "data": {
      "text/plain": [
       "target_day\n",
       "0    1885156\n",
       "1      12232\n",
       "Name: target_day, dtype: int64"
      ]
     },
     "execution_count": 69,
     "metadata": {},
     "output_type": "execute_result"
    }
   ],
   "source": [
    "y_test['target_day'].groupby(y_test['target_day']).count()"
   ]
  },
  {
   "cell_type": "code",
   "execution_count": 72,
   "id": "12b3af79-53a7-4af6-a9ef-e8fd903a770a",
   "metadata": {},
   "outputs": [
    {
     "data": {
      "text/plain": [
       "154.11674296926097"
      ]
     },
     "execution_count": 72,
     "metadata": {},
     "output_type": "execute_result"
    }
   ],
   "source": [
    "1885156 / 12232"
   ]
  },
  {
   "cell_type": "code",
   "execution_count": 74,
   "id": "ffa37d45-bd48-44ac-bf68-99bc6575454d",
   "metadata": {},
   "outputs": [
    {
     "data": {
      "text/plain": [
       "153.0"
      ]
     },
     "execution_count": 74,
     "metadata": {},
     "output_type": "execute_result"
    }
   ],
   "source": [
    "(154 + 287 + 18) / 3"
   ]
  },
  {
   "cell_type": "markdown",
   "id": "f7016870-0725-4c48-8689-06dd36eae5fb",
   "metadata": {},
   "source": [
    "Нужно менять X train, X test, X val, в идеале, но ладно, пока оставим для следующих гипотез"
   ]
  },
  {
   "cell_type": "code",
   "execution_count": 20,
   "id": "2df41c73-4820-4006-873e-23642bd2168d",
   "metadata": {},
   "outputs": [
    {
     "data": {
      "application/vnd.jupyter.widget-view+json": {
       "model_id": "e2a9a33c36e440198f6ed8cecfbda946",
       "version_major": 2,
       "version_minor": 0
      },
      "text/plain": [
       "MetricVisualizer(layout=Layout(align_self='stretch', height='500px'))"
      ]
     },
     "metadata": {},
     "output_type": "display_data"
    },
    {
     "data": {
      "text/plain": [
       "<catboost.core.CatBoostClassifier at 0x2a3ca48ee80>"
      ]
     },
     "execution_count": 20,
     "metadata": {},
     "output_type": "execute_result"
    }
   ],
   "source": [
    "cbc2 = CatBoostClassifier(iterations=500, random_seed=random_seed, eval_metric='F1', task_type='GPU', class_weights={0:1, 1:145})\n",
    "cbc2.fit(X_train, y_train['target_month'], eval_set=(X_val, y_val['target_month']), \n",
    "         early_stopping_rounds=100,  \n",
    "         verbose = 0, plot = True, \n",
    "         use_best_model = True)"
   ]
  },
  {
   "cell_type": "markdown",
   "id": "b8cd1752-6fff-4aec-838e-a87223e078bb",
   "metadata": {},
   "source": [
    "###### Save model ######"
   ]
  },
  {
   "cell_type": "code",
   "execution_count": 21,
   "id": "f4cc0938-5a7c-440b-a35d-d8f7b3965843",
   "metadata": {},
   "outputs": [],
   "source": [
    "cbc2.save_model('cbc2_97f1_shift_1M_months_12_11_01_56')"
   ]
  },
  {
   "cell_type": "code",
   "execution_count": null,
   "id": "3f1c1589-0dd1-4f6d-94fc-a70d34f1e0ed",
   "metadata": {},
   "outputs": [],
   "source": [
    "#model = CatBoostClassifier()\n",
    "#model.load_model('cbc2_97f1_shit_1M_months')"
   ]
  },
  {
   "cell_type": "markdown",
   "id": "73f5ecf0-bfe0-4446-87a4-a25bbc1bdc3d",
   "metadata": {},
   "source": [
    "###### Submit res (months) ######"
   ]
  },
  {
   "cell_type": "code",
   "execution_count": 22,
   "id": "2465f73a-12cf-4558-8561-be1bb4e3747c",
   "metadata": {},
   "outputs": [],
   "source": [
    "submission_months = cbc2.predict(X_test,)"
   ]
  },
  {
   "cell_type": "code",
   "execution_count": 23,
   "id": "6be8ce07-7b7f-47d3-9ff1-55031a269529",
   "metadata": {},
   "outputs": [],
   "source": [
    "submission_months = pd.DataFrame(submission_months, index = X_test.index, columns = ['target_month'])"
   ]
  },
  {
   "cell_type": "code",
   "execution_count": 24,
   "id": "e2ca34a7-5b17-454e-b38b-d223dfed0009",
   "metadata": {},
   "outputs": [],
   "source": [
    "submission_months = pd.concat([submission_months, X_test['wagnum']], axis = 1)"
   ]
  },
  {
   "cell_type": "markdown",
   "id": "2ef2ba72-89bc-4872-92eb-673e605b478d",
   "metadata": {},
   "source": [
    "###### Submit ######"
   ]
  },
  {
   "cell_type": "code",
   "execution_count": 25,
   "id": "97efc507-8ddd-4d11-a435-f2474d326671",
   "metadata": {},
   "outputs": [],
   "source": [
    "submit = pd.concat([submission_months, submission_days], axis = 1)\n",
    "submit = submit.loc[:,~submit.columns.duplicated()]"
   ]
  },
  {
   "cell_type": "code",
   "execution_count": 26,
   "id": "963a872d-8dc1-45a4-8f60-df4f6590228a",
   "metadata": {},
   "outputs": [],
   "source": [
    "submit.to_csv('good_submit_v03.csv')"
   ]
  },
  {
   "cell_type": "code",
   "execution_count": null,
   "id": "7a306ede-b3b2-4983-94da-b3ff11613acf",
   "metadata": {},
   "outputs": [],
   "source": [
    "#submit= pd.read_csv('good_submit_v02.csv')"
   ]
  },
  {
   "cell_type": "code",
   "execution_count": 191,
   "id": "d9abdc81-fd51-4a5f-8a61-9736bd0e9e98",
   "metadata": {},
   "outputs": [],
   "source": [
    "#ress = submit.groupby(by=['wagnum']).max()"
   ]
  },
  {
   "cell_type": "code",
   "execution_count": 27,
   "id": "9b2ad02f-ee2e-4655-a017-f0c26be504e1",
   "metadata": {},
   "outputs": [],
   "source": [
    "ress = submit.groupby(by=['wagnum']).mean()"
   ]
  },
  {
   "cell_type": "code",
   "execution_count": 92,
   "id": "f912c0cd-fbd6-4fda-b34b-c45eddd581d4",
   "metadata": {
    "collapsed": true,
    "jupyter": {
     "outputs_hidden": true
    },
    "tags": []
   },
   "outputs": [
    {
     "data": {
      "text/html": [
       "<div>\n",
       "<style scoped>\n",
       "    .dataframe tbody tr th:only-of-type {\n",
       "        vertical-align: middle;\n",
       "    }\n",
       "\n",
       "    .dataframe tbody tr th {\n",
       "        vertical-align: top;\n",
       "    }\n",
       "\n",
       "    .dataframe thead th {\n",
       "        text-align: right;\n",
       "    }\n",
       "</style>\n",
       "<table border=\"1\" class=\"dataframe\">\n",
       "  <thead>\n",
       "    <tr style=\"text-align: right;\">\n",
       "      <th></th>\n",
       "      <th>target_month</th>\n",
       "      <th>target_day</th>\n",
       "    </tr>\n",
       "    <tr>\n",
       "      <th>wagnum</th>\n",
       "      <th></th>\n",
       "      <th></th>\n",
       "    </tr>\n",
       "  </thead>\n",
       "  <tbody>\n",
       "    <tr>\n",
       "      <th>0</th>\n",
       "      <td>0.0</td>\n",
       "      <td>0.0</td>\n",
       "    </tr>\n",
       "    <tr>\n",
       "      <th>1</th>\n",
       "      <td>0.0</td>\n",
       "      <td>0.0</td>\n",
       "    </tr>\n",
       "    <tr>\n",
       "      <th>2</th>\n",
       "      <td>0.0</td>\n",
       "      <td>0.0</td>\n",
       "    </tr>\n",
       "    <tr>\n",
       "      <th>3</th>\n",
       "      <td>0.0</td>\n",
       "      <td>0.0</td>\n",
       "    </tr>\n",
       "    <tr>\n",
       "      <th>4</th>\n",
       "      <td>0.0</td>\n",
       "      <td>0.0</td>\n",
       "    </tr>\n",
       "    <tr>\n",
       "      <th>...</th>\n",
       "      <td>...</td>\n",
       "      <td>...</td>\n",
       "    </tr>\n",
       "    <tr>\n",
       "      <th>33972</th>\n",
       "      <td>0.0</td>\n",
       "      <td>0.0</td>\n",
       "    </tr>\n",
       "    <tr>\n",
       "      <th>33973</th>\n",
       "      <td>0.0</td>\n",
       "      <td>0.0</td>\n",
       "    </tr>\n",
       "    <tr>\n",
       "      <th>33974</th>\n",
       "      <td>0.0</td>\n",
       "      <td>0.0</td>\n",
       "    </tr>\n",
       "    <tr>\n",
       "      <th>33975</th>\n",
       "      <td>0.0</td>\n",
       "      <td>0.0</td>\n",
       "    </tr>\n",
       "    <tr>\n",
       "      <th>33976</th>\n",
       "      <td>0.0</td>\n",
       "      <td>0.0</td>\n",
       "    </tr>\n",
       "  </tbody>\n",
       "</table>\n",
       "<p>33708 rows × 2 columns</p>\n",
       "</div>"
      ],
      "text/plain": [
       "        target_month  target_day\n",
       "wagnum                          \n",
       "0                0.0         0.0\n",
       "1                0.0         0.0\n",
       "2                0.0         0.0\n",
       "3                0.0         0.0\n",
       "4                0.0         0.0\n",
       "...              ...         ...\n",
       "33972            0.0         0.0\n",
       "33973            0.0         0.0\n",
       "33974            0.0         0.0\n",
       "33975            0.0         0.0\n",
       "33976            0.0         0.0\n",
       "\n",
       "[33708 rows x 2 columns]"
      ]
     },
     "execution_count": 92,
     "metadata": {},
     "output_type": "execute_result"
    }
   ],
   "source": [
    "ress"
   ]
  },
  {
   "cell_type": "code",
   "execution_count": 28,
   "id": "590e8bb6-b1a6-4495-b5ff-845653c60e13",
   "metadata": {},
   "outputs": [
    {
     "data": {
      "image/png": "[encoded data removed]",
      "text/plain": [
       "<Figure size 700x300 with 2 Axes>"
      ]
     },
     "metadata": {},
     "output_type": "display_data"
    }
   ],
   "source": [
    "fig,ax= plt.subplots(1,2,figsize=(7,3))\n",
    "ress.target_month.hist(ax=ax[0], label='target_month')\n",
    "ress.target_day.hist(ax=ax[1], label='target_day')\n",
    "\n",
    "ax[0].set_xlabel('Probability')\n",
    "ax[0].set_ylabel('N wagons')\n",
    "ax[1].set_xlabel('Probability')\n",
    "ax[1].set_ylabel('N wagons')\n",
    "\n",
    "fig.tight_layout()"
   ]
  },
  {
   "cell_type": "code",
   "execution_count": 29,
   "id": "c020ea1b-7e27-4def-aeab-0ff87a806e76",
   "metadata": {},
   "outputs": [
    {
     "data": {
      "text/plain": [
       "(array([0.        , 0.67857143, 1.        , 0.42857143, 0.17857143,\n",
       "        0.03571429, 0.5       , 0.89285714, 0.25      , 0.35714286,\n",
       "        0.85714286, 0.28571429, 0.57142857, 0.14285714, 0.71428571,\n",
       "        0.10714286, 0.96428571, 0.46428571, 0.32142857, 0.21428571,\n",
       "        0.64285714, 0.39285714, 0.60714286, 0.07142857, 0.78571429,\n",
       "        0.92857143, 0.53571429, 0.75      , 0.82142857]),\n",
       " array([0.        , 1.        , 0.10714286, 0.03571429, 0.92857143,\n",
       "        0.28571429, 0.17857143, 0.75      , 0.67857143, 0.5       ,\n",
       "        0.21428571, 0.78571429, 0.39285714, 0.71428571, 0.57142857,\n",
       "        0.60714286, 0.25      , 0.64285714, 0.07142857, 0.89285714,\n",
       "        0.35714286, 0.46428571, 0.85714286, 0.32142857, 0.42857143,\n",
       "        0.14285714, 0.96428571, 0.53571429, 0.82142857]))"
      ]
     },
     "execution_count": 29,
     "metadata": {},
     "output_type": "execute_result"
    }
   ],
   "source": [
    "ress.target_day.unique(), ress.target_month.unique(), "
   ]
  },
  {
   "cell_type": "markdown",
   "id": "f9fe598b-36de-4528-ad82-c06964976ec8",
   "metadata": {
    "jp-MarkdownHeadingCollapsed": true,
    "tags": []
   },
   "source": [
    "###### Binarization ######"
   ]
  },
  {
   "cell_type": "markdown",
   "id": "4138072c-df1d-4359-9d04-321858075cba",
   "metadata": {
    "jp-MarkdownHeadingCollapsed": true,
    "tags": []
   },
   "source": [
    "###### Расчет порогов ######"
   ]
  },
  {
   "cell_type": "code",
   "execution_count": 97,
   "id": "c8c98187-17f6-4642-ba62-28052e59a8c6",
   "metadata": {},
   "outputs": [],
   "source": [
    "# 1 вариант\n",
    "#ress.loc[r_ASS.target_month < 0.25, 'target_month'] = 0\n",
    "#ress.loc[r_ASS.target_month > 0.25, 'target_month'] = 1"
   ]
  },
  {
   "cell_type": "code",
   "execution_count": 106,
   "id": "472727d5-9ce7-4cd7-b156-e75b7d2802d5",
   "metadata": {},
   "outputs": [],
   "source": [
    "months_1 = cbc2.predict_proba(X_test,)"
   ]
  },
  {
   "cell_type": "code",
   "execution_count": 127,
   "id": "14c6e873-3f1a-44d3-a648-6ef5210150c0",
   "metadata": {},
   "outputs": [
    {
     "data": {
      "text/plain": [
       "array([0, 1, 0, ..., 0, 0, 0], dtype=object)"
      ]
     },
     "execution_count": 127,
     "metadata": {},
     "output_type": "execute_result"
    }
   ],
   "source": [
    "y_test['target_month'].to_numpy()"
   ]
  },
  {
   "cell_type": "code",
   "execution_count": 126,
   "id": "75713b19-da43-4dc6-99f5-97d2677c3f5e",
   "metadata": {},
   "outputs": [
    {
     "data": {
      "text/plain": [
       "array([0.92498853, 0.9805882 , 0.01783666, ..., 0.94240473, 0.19110904,\n",
       "       0.01831711])"
      ]
     },
     "execution_count": 126,
     "metadata": {},
     "output_type": "execute_result"
    }
   ],
   "source": [
    "months_1[:,1]"
   ]
  },
  {
   "cell_type": "code",
   "execution_count": 143,
   "id": "957fcbe1-9d3d-40ec-88e6-bf0a42283bf8",
   "metadata": {},
   "outputs": [],
   "source": [
    "fpr, tpr, thresholds = roc_curve(y_score=months_1[:,1], y_true=y_test['target_month'].to_numpy().astype(int),)\n",
    "roc_auc = auc(fpr, tpr)"
   ]
  },
  {
   "cell_type": "code",
   "execution_count": 144,
   "id": "9338974a-d213-48b4-bdc7-46644d4e4036",
   "metadata": {},
   "outputs": [
    {
     "data": {
      "text/plain": [
       "0.9364141001827416"
      ]
     },
     "execution_count": 144,
     "metadata": {},
     "output_type": "execute_result"
    }
   ],
   "source": [
    "roc_auc"
   ]
  },
  {
   "cell_type": "code",
   "execution_count": 141,
   "id": "cdf59ead-b162-4cde-853a-128ce4311d9f",
   "metadata": {},
   "outputs": [
    {
     "data": {
      "text/plain": [
       "(0.0, 1.0)"
      ]
     },
     "execution_count": 141,
     "metadata": {},
     "output_type": "execute_result"
    },
    {
     "data": {
      "image/png": "[encoded data removed]",
      "text/plain": [
       "<Figure size 700x700 with 1 Axes>"
      ]
     },
     "metadata": {},
     "output_type": "display_data"
    }
   ],
   "source": [
    "plt.figure(figsize=(7,7))\n",
    "plt.plot(fpr, tpr)\n",
    "plt.fill_between(fpr, tpr, color='tab:blue', alpha=0.1)\n",
    "plt.plot([0,1],[0,1], label = '50%', color = 'orange', linestyle='dashed')\n",
    "plt.xlim([0,1])\n",
    "plt.ylim([0,1])"
   ]
  },
  {
   "cell_type": "code",
   "execution_count": 150,
   "id": "8876b997-5e83-43ea-bf38-6186f1d0a845",
   "metadata": {
    "tags": []
   },
   "outputs": [
    {
     "data": {
      "image/png": "[encoded data removed]",
      "text/plain": [
       "<Figure size 640x480 with 1 Axes>"
      ]
     },
     "metadata": {},
     "output_type": "display_data"
    }
   ],
   "source": [
    "i = np.arange(len(tpr)) # index for df\n",
    "roc = pd.DataFrame({'fpr' : pd.Series(fpr, index=i),'tpr' : pd.Series(tpr, index = i), '1-fpr' : pd.Series(1-fpr, index = i), 'tf' : pd.Series(tpr - (1-fpr), index = i), 'thresholds' : pd.Series(thresholds, index = i)})\n",
    "roc.iloc[(roc.tf-0).abs().argsort()[:1]]\n",
    "\n",
    "# Plot tpr vs 1-fpr\n",
    "fig, ax = plt.subplots()\n",
    "plt.plot(roc['tpr'])\n",
    "plt.plot(roc['1-fpr'], color = 'red');\n",
    "plt.xlabel('1-False Positive Rate');\n",
    "plt.ylabel('True Positive Rate');\n",
    "plt.title('Receiver operating characteristic');\n",
    "ax.set_xticklabels([]);"
   ]
  },
  {
   "cell_type": "code",
   "execution_count": 151,
   "id": "ca1f2901-dff5-4e31-bab0-e2c7de1f66e1",
   "metadata": {},
   "outputs": [],
   "source": [
    "optimal_idx = np.argmax(tpr - fpr)\n",
    "optimal_threshold = thresholds[optimal_idx]"
   ]
  },
  {
   "cell_type": "code",
   "execution_count": 152,
   "id": "11de467c-d9a3-4277-be35-9c944079b686",
   "metadata": {},
   "outputs": [
    {
     "data": {
      "text/plain": [
       "0.4368387951156588"
      ]
     },
     "execution_count": 152,
     "metadata": {},
     "output_type": "execute_result"
    }
   ],
   "source": [
    "optimal_threshold"
   ]
  },
  {
   "cell_type": "markdown",
   "id": "3d3b4910-5760-4944-bbf0-01951a3f11c9",
   "metadata": {},
   "source": [
    "**Для месяцев - optimal_threshold = 0.4368**"
   ]
  },
  {
   "cell_type": "markdown",
   "id": "66a8559e-93f4-4813-9c4d-1ea18081120d",
   "metadata": {},
   "source": [
    "Теперь для дней"
   ]
  },
  {
   "cell_type": "code",
   "execution_count": 156,
   "id": "12e2fb71-3dc2-4219-b8ad-dc4a6bfae43c",
   "metadata": {},
   "outputs": [],
   "source": [
    "days_1 = cbc1.predict_proba(X_test)"
   ]
  },
  {
   "cell_type": "code",
   "execution_count": 157,
   "id": "5e177645-e76e-48fd-b6bb-49e12e719d03",
   "metadata": {},
   "outputs": [
    {
     "data": {
      "text/plain": [
       "array([[0.53089723, 0.46910277],\n",
       "       [0.17602286, 0.82397714],\n",
       "       [0.96579642, 0.03420358],\n",
       "       ...,\n",
       "       [0.65296312, 0.34703688],\n",
       "       [0.82353299, 0.17646701],\n",
       "       [0.97381435, 0.02618565]])"
      ]
     },
     "execution_count": 157,
     "metadata": {},
     "output_type": "execute_result"
    }
   ],
   "source": [
    "days_1"
   ]
  },
  {
   "cell_type": "code",
   "execution_count": 158,
   "id": "452487bd-021e-4903-bbd5-a26d537d8b35",
   "metadata": {},
   "outputs": [],
   "source": [
    "fpr, tpr, thresholds = roc_curve(y_score=days_1[:,1], y_true=y_test['target_day'].to_numpy().astype(int),)\n",
    "roc_auc = auc(fpr, tpr)"
   ]
  },
  {
   "cell_type": "code",
   "execution_count": 159,
   "id": "e77d19e7-d1d1-4a3f-a5d3-f6dc141ace22",
   "metadata": {},
   "outputs": [],
   "source": [
    "optimal_idx = np.argmax(tpr - fpr)\n",
    "optimal_threshold = thresholds[optimal_idx]"
   ]
  },
  {
   "cell_type": "code",
   "execution_count": 160,
   "id": "0862e808-80df-4521-a9e1-fabadf816456",
   "metadata": {},
   "outputs": [
    {
     "data": {
      "text/plain": [
       "0.3847648902547599"
      ]
     },
     "execution_count": 160,
     "metadata": {},
     "output_type": "execute_result"
    }
   ],
   "source": [
    "optimal_threshold"
   ]
  },
  {
   "cell_type": "markdown",
   "id": "b5db19d7-8559-44ab-b0af-86964fb4ac24",
   "metadata": {},
   "source": [
    "Для дней оптимальный = 0.38476"
   ]
  },
  {
   "cell_type": "markdown",
   "id": "6f825ddc-4046-4934-b7d5-81c620f9c3dc",
   "metadata": {
    "tags": []
   },
   "source": [
    "###### Применение порогов ######"
   ]
  },
  {
   "cell_type": "code",
   "execution_count": 31,
   "id": "fbf6ef9e-8359-4c8a-9100-817db66077b3",
   "metadata": {},
   "outputs": [],
   "source": [
    "ress.loc[ress.target_day < 0.38476, 'target_day'] = 0\n",
    "ress.loc[ress.target_day >= 0.38476, 'target_day'] = 1"
   ]
  },
  {
   "cell_type": "code",
   "execution_count": 32,
   "id": "0381b200-6400-4ba7-9606-2949ed86e0fb",
   "metadata": {},
   "outputs": [],
   "source": [
    "ress.loc[ress.target_month < 0.4368, 'target_month'] = 0\n",
    "ress.loc[ress.target_month >= 0.4368, 'target_month'] = 1"
   ]
  },
  {
   "cell_type": "code",
   "execution_count": 33,
   "id": "219afa97-c851-4a61-bf53-4de8009eb9d5",
   "metadata": {},
   "outputs": [],
   "source": [
    "ress.target_day = ress.target_day.astype(int)\n",
    "ress.target_month = ress.target_month.astype(int)"
   ]
  },
  {
   "cell_type": "code",
   "execution_count": 34,
   "id": "71d9b894-3b1f-4f0e-a2e7-82a0f43b660a",
   "metadata": {},
   "outputs": [
    {
     "data": {
      "image/png": "[encoded data removed]",
      "text/plain": [
       "<Figure size 700x300 with 2 Axes>"
      ]
     },
     "metadata": {},
     "output_type": "display_data"
    }
   ],
   "source": [
    "fig,ax= plt.subplots(1,2,figsize=(7,3))\n",
    "ress.target_month.hist(ax=ax[0], label='target_month')\n",
    "ress.target_day.hist(ax=ax[1], label='target_day')\n",
    "\n",
    "ax[0].set_xlabel('Probability')\n",
    "ax[0].set_ylabel('N wagons')\n",
    "ax[1].set_xlabel('Probability')\n",
    "ax[1].set_ylabel('N wagons')\n",
    "\n",
    "fig.tight_layout()"
   ]
  },
  {
   "cell_type": "code",
   "execution_count": 174,
   "id": "04ac693b-f700-4de2-a332-1697975f5476",
   "metadata": {
    "collapsed": true,
    "jupyter": {
     "outputs_hidden": true
    },
    "tags": []
   },
   "outputs": [
    {
     "data": {
      "text/html": [
       "<div>\n",
       "<style scoped>\n",
       "    .dataframe tbody tr th:only-of-type {\n",
       "        vertical-align: middle;\n",
       "    }\n",
       "\n",
       "    .dataframe tbody tr th {\n",
       "        vertical-align: top;\n",
       "    }\n",
       "\n",
       "    .dataframe thead th {\n",
       "        text-align: right;\n",
       "    }\n",
       "</style>\n",
       "<table border=\"1\" class=\"dataframe\">\n",
       "  <thead>\n",
       "    <tr style=\"text-align: right;\">\n",
       "      <th></th>\n",
       "      <th>target_month</th>\n",
       "      <th>target_day</th>\n",
       "    </tr>\n",
       "    <tr>\n",
       "      <th>wagnum</th>\n",
       "      <th></th>\n",
       "      <th></th>\n",
       "    </tr>\n",
       "  </thead>\n",
       "  <tbody>\n",
       "    <tr>\n",
       "      <th>0</th>\n",
       "      <td>0</td>\n",
       "      <td>0</td>\n",
       "    </tr>\n",
       "    <tr>\n",
       "      <th>1</th>\n",
       "      <td>0</td>\n",
       "      <td>0</td>\n",
       "    </tr>\n",
       "    <tr>\n",
       "      <th>2</th>\n",
       "      <td>0</td>\n",
       "      <td>0</td>\n",
       "    </tr>\n",
       "    <tr>\n",
       "      <th>3</th>\n",
       "      <td>0</td>\n",
       "      <td>0</td>\n",
       "    </tr>\n",
       "    <tr>\n",
       "      <th>4</th>\n",
       "      <td>0</td>\n",
       "      <td>0</td>\n",
       "    </tr>\n",
       "    <tr>\n",
       "      <th>...</th>\n",
       "      <td>...</td>\n",
       "      <td>...</td>\n",
       "    </tr>\n",
       "    <tr>\n",
       "      <th>33972</th>\n",
       "      <td>0</td>\n",
       "      <td>0</td>\n",
       "    </tr>\n",
       "    <tr>\n",
       "      <th>33973</th>\n",
       "      <td>0</td>\n",
       "      <td>0</td>\n",
       "    </tr>\n",
       "    <tr>\n",
       "      <th>33974</th>\n",
       "      <td>0</td>\n",
       "      <td>0</td>\n",
       "    </tr>\n",
       "    <tr>\n",
       "      <th>33975</th>\n",
       "      <td>0</td>\n",
       "      <td>0</td>\n",
       "    </tr>\n",
       "    <tr>\n",
       "      <th>33976</th>\n",
       "      <td>0</td>\n",
       "      <td>0</td>\n",
       "    </tr>\n",
       "  </tbody>\n",
       "</table>\n",
       "<p>33708 rows × 2 columns</p>\n",
       "</div>"
      ],
      "text/plain": [
       "        target_month  target_day\n",
       "wagnum                          \n",
       "0                  0           0\n",
       "1                  0           0\n",
       "2                  0           0\n",
       "3                  0           0\n",
       "4                  0           0\n",
       "...              ...         ...\n",
       "33972              0           0\n",
       "33973              0           0\n",
       "33974              0           0\n",
       "33975              0           0\n",
       "33976              0           0\n",
       "\n",
       "[33708 rows x 2 columns]"
      ]
     },
     "execution_count": 174,
     "metadata": {},
     "output_type": "execute_result"
    }
   ],
   "source": [
    "ress"
   ]
  },
  {
   "cell_type": "code",
   "execution_count": 35,
   "id": "1f18ef27-48fb-4400-b616-0945127e5fb3",
   "metadata": {},
   "outputs": [],
   "source": [
    "ress.to_csv('raw_submit_12_11_02_00.csv')"
   ]
  },
  {
   "cell_type": "markdown",
   "id": "0df93a2a-af14-438b-a096-039ce4747891",
   "metadata": {},
   "source": [
    "###### Сабмит (для данных уже с порогами) ######"
   ]
  },
  {
   "cell_type": "code",
   "execution_count": 36,
   "id": "7fd0e690-f39d-4a4b-855a-d4048a4ada16",
   "metadata": {},
   "outputs": [],
   "source": [
    "example = pd.read_csv('target/y_predict_submit_example.csv')\n",
    "example.drop(columns = ['target_month','target_day'], inplace = True)"
   ]
  },
  {
   "cell_type": "code",
   "execution_count": 37,
   "id": "1f43c412-5a9f-44eb-89c7-d86c6f63ca0f",
   "metadata": {},
   "outputs": [],
   "source": [
    "example.index = example['wagnum']\n",
    "example.drop(columns = ['wagnum'], inplace = True)"
   ]
  },
  {
   "cell_type": "code",
   "execution_count": 38,
   "id": "d6d78e0f-a420-4808-a487-95f50b53db75",
   "metadata": {},
   "outputs": [],
   "source": [
    "ress = pd.merge(left=example, right=ress, left_index = True, right_index=True, how='left')"
   ]
  },
  {
   "cell_type": "code",
   "execution_count": 39,
   "id": "83c8c753-df17-4c84-a399-1a8a1eb4a304",
   "metadata": {},
   "outputs": [],
   "source": [
    "ress.fillna(value = 0, inplace = True)"
   ]
  },
  {
   "cell_type": "code",
   "execution_count": 40,
   "id": "a445a0db-9def-43a5-bfba-45fa4d5b4a46",
   "metadata": {},
   "outputs": [],
   "source": [
    "ress.target_day = ress.target_day.astype(int)\n",
    "ress.target_month = ress.target_month.astype(int)"
   ]
  },
  {
   "cell_type": "code",
   "execution_count": 41,
   "id": "61f8cd65-fdcc-4955-80cf-3f9054d771b5",
   "metadata": {},
   "outputs": [
    {
     "data": {
      "image/png": "[encoded data removed]",
      "text/plain": [
       "<Figure size 700x300 with 2 Axes>"
      ]
     },
     "metadata": {},
     "output_type": "display_data"
    }
   ],
   "source": [
    "fig,ax= plt.subplots(1,2,figsize=(7,3))\n",
    "ress.target_month.hist(ax=ax[0], label='target_month')\n",
    "ress.target_day.hist(ax=ax[1], label='target_day')\n",
    "\n",
    "ax[0].set_xlabel('Probability')\n",
    "ax[0].set_ylabel('N wagons')\n",
    "ax[1].set_xlabel('Probability')\n",
    "ax[1].set_ylabel('N wagons')\n",
    "\n",
    "fig.tight_layout()"
   ]
  },
  {
   "cell_type": "code",
   "execution_count": 42,
   "id": "ab86782c-38cd-4070-bb72-0e72d198af9a",
   "metadata": {},
   "outputs": [],
   "source": [
    "ress.to_csv('submit_12_11_02_00.csv')"
   ]
  },
  {
   "cell_type": "code",
   "execution_count": null,
   "id": "1d015754-1ba1-4c48-b673-f4311bbdbb88",
   "metadata": {
    "tags": []
   },
   "outputs": [],
   "source": []
  },
  {
   "cell_type": "code",
   "execution_count": null,
   "id": "dc6e1cfc-87bf-4627-94a1-63dbddd3f8da",
   "metadata": {},
   "outputs": [],
   "source": []
  },
  {
   "cell_type": "code",
   "execution_count": null,
   "id": "f552bb05-08a4-4173-840d-b4f311641ee0",
   "metadata": {},
   "outputs": [],
   "source": []
  },
  {
   "cell_type": "code",
   "execution_count": null,
   "id": "e29d83d7-2fea-48b5-a94d-ac76ee5f4c7b",
   "metadata": {},
   "outputs": [],
   "source": []
  }
 ],
 "metadata": {
  "kernelspec": {
   "display_name": "Python 3 (ipykernel)",
   "language": "python",
   "name": "python3"
  },
  "language_info": {
   "codemirror_mode": {
    "name": "ipython",
    "version": 3
   },
   "file_extension": ".py",
   "mimetype": "text/x-python",
   "name": "python",
   "nbconvert_exporter": "python",
   "pygments_lexer": "ipython3",
   "version": "3.9.16"
  }
 },
 "nbformat": 4,
 "nbformat_minor": 5
}
