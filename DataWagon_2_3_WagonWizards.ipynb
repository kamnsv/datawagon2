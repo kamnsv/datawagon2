{
  "nbformat": 4,
  "nbformat_minor": 0,
  "metadata": {
    "colab": {
      "provenance": [],
      "include_colab_link": true
    },
    "kernelspec": {
      "name": "python3",
      "display_name": "Python 3"
    },
    "language_info": {
      "name": "python"
    }
  },
  "cells": [
    {
      "cell_type": "markdown",
      "metadata": {
        "id": "view-in-github",
        "colab_type": "text"
      },
      "source": [
        "<a href=\"https://colab.research.google.com/github/kamnsv/datawagon2/blob/main/DataWagon_2_3_WagonWizards.ipynb\" target=\"_parent\"><img src=\"https://colab.research.google.com/assets/colab-badge.svg\" alt=\"Open In Colab\"/></a>"
      ]
    },
    {
      "cell_type": "markdown",
      "source": [
        "# Окружение"
      ],
      "metadata": {
        "id": "_BtnRaNxRQAB"
      }
    },
    {
      "cell_type": "code",
      "execution_count": null,
      "metadata": {
        "id": "int2ZjLIDNtU"
      },
      "outputs": [],
      "source": [
        "#@title Импорт библиотек\n",
        "import tensorflow as tf\n",
        "import os\n",
        "import gdown"
      ]
    },
    {
      "cell_type": "markdown",
      "source": [
        "## Необходимые библиотеки"
      ],
      "metadata": {
        "id": "bJ_ZDxw5JN6d"
      }
    },
    {
      "cell_type": "code",
      "source": [
        "!pip install fastparquet"
      ],
      "metadata": {
        "id": "r1srpasgJLRP",
        "colab": {
          "base_uri": "https://localhost:8080/"
        },
        "outputId": "c29e3a9a-e363-4da2-f001-8f5043e49f8e"
      },
      "execution_count": null,
      "outputs": [
        {
          "output_type": "stream",
          "name": "stdout",
          "text": [
            "Requirement already satisfied: fastparquet in /usr/local/lib/python3.10/dist-packages (2023.10.1)\n",
            "Requirement already satisfied: pandas>=1.5.0 in /usr/local/lib/python3.10/dist-packages (from fastparquet) (1.5.3)\n",
            "Requirement already satisfied: numpy>=1.20.3 in /usr/local/lib/python3.10/dist-packages (from fastparquet) (1.23.5)\n",
            "Requirement already satisfied: cramjam>=2.3 in /usr/local/lib/python3.10/dist-packages (from fastparquet) (2.7.0)\n",
            "Requirement already satisfied: fsspec in /usr/local/lib/python3.10/dist-packages (from fastparquet) (2023.6.0)\n",
            "Requirement already satisfied: packaging in /usr/local/lib/python3.10/dist-packages (from fastparquet) (23.2)\n",
            "Requirement already satisfied: python-dateutil>=2.8.1 in /usr/local/lib/python3.10/dist-packages (from pandas>=1.5.0->fastparquet) (2.8.2)\n",
            "Requirement already satisfied: pytz>=2020.1 in /usr/local/lib/python3.10/dist-packages (from pandas>=1.5.0->fastparquet) (2023.3.post1)\n",
            "Requirement already satisfied: six>=1.5 in /usr/local/lib/python3.10/dist-packages (from python-dateutil>=2.8.1->pandas>=1.5.0->fastparquet) (1.16.0)\n"
          ]
        }
      ]
    },
    {
      "cell_type": "code",
      "source": [
        "!pip freeze | grep numpy\n",
        "!pip freeze | grep pandas\n",
        "!pip freeze | grep pyarrow\n",
        "!pip freeze | grep fastparquet"
      ],
      "metadata": {
        "colab": {
          "base_uri": "https://localhost:8080/"
        },
        "id": "tbgvKxl0QV5w",
        "outputId": "7db2887a-2522-4fdf-c367-f18f79e81cc8"
      },
      "execution_count": null,
      "outputs": [
        {
          "output_type": "stream",
          "name": "stdout",
          "text": [
            "numpy==1.23.5\n",
            "geopandas==0.13.2\n",
            "pandas==1.5.3\n",
            "pandas-datareader==0.10.0\n",
            "pandas-gbq==0.17.9\n",
            "pandas-stubs==1.5.3.230304\n",
            "sklearn-pandas==2.2.0\n",
            "pyarrow==9.0.0\n",
            "fastparquet==2023.10.1\n"
          ]
        }
      ]
    },
    {
      "cell_type": "markdown",
      "source": [
        "# Датасет"
      ],
      "metadata": {
        "id": "Q1J8Zj4qRf2J"
      }
    },
    {
      "cell_type": "code",
      "source": [
        "#@title Загрузка архива\n",
        "file_id = '1RXi-4r-KK-xFyyt3G76hqa6_FG3T0YIV'\n",
        "output = 'train.rar'\n",
        "url = f'https://drive.google.com/uc?id={file_id}'\n",
        "gdown.download(url, output, quiet=False)"
      ],
      "metadata": {
        "colab": {
          "base_uri": "https://localhost:8080/",
          "height": 104
        },
        "cellView": "form",
        "id": "lPbZEYKCSamy",
        "outputId": "74bb3b1a-1933-4a54-f6cd-97e1652fe1be"
      },
      "execution_count": null,
      "outputs": [
        {
          "output_type": "stream",
          "name": "stderr",
          "text": [
            "Downloading...\n",
            "From: https://drive.google.com/uc?id=1RXi-4r-KK-xFyyt3G76hqa6_FG3T0YIV\n",
            "To: /content/train.rar\n",
            "100%|██████████| 43.1M/43.1M [00:00<00:00, 86.4MB/s]\n"
          ]
        },
        {
          "output_type": "execute_result",
          "data": {
            "text/plain": [
              "'train.rar'"
            ],
            "application/vnd.google.colaboratory.intrinsic+json": {
              "type": "string"
            }
          },
          "metadata": {},
          "execution_count": 16
        }
      ]
    },
    {
      "cell_type": "code",
      "source": [
        "#@title Распаковка\n",
        "!unrar x train.rar train"
      ],
      "metadata": {
        "colab": {
          "base_uri": "https://localhost:8080/"
        },
        "cellView": "form",
        "id": "Xp8y4DRHUrwl",
        "outputId": "5c7ad0c0-b1a2-48b0-a0cf-4b1fa7f571ad"
      },
      "execution_count": null,
      "outputs": [
        {
          "output_type": "stream",
          "name": "stdout",
          "text": [
            "\n",
            "UNRAR 6.11 beta 1 freeware      Copyright (c) 1993-2022 Alexander Roshal\n",
            "\n",
            "\n",
            "Extracting from train.rar\n",
            "\n",
            "Creating    train                                                     OK\n",
            "Extracting  train/dislok_wagons.parquet                                  \b\b\b\b  9%\b\b\b\b 19%\b\b\b\b 29%\b\b\b\b 38%\b\b\b\b 48%\b\b\b\b 58%\b\b\b\b 68%\b\b\b\b 71%\b\b\b\b\b  OK \n",
            "Extracting  train/freight_info.parquet                                   \b\b\b\b 71%\b\b\b\b\b  OK \n",
            "Extracting  train/kti_izm.parquet                                        \b\b\b\b 72%\b\b\b\b\b  OK \n",
            "Extracting  train/metrics_f1.py                                          \b\b\b\b 72%\b\b\b\b\b  OK \n",
            "Creating    train/prediction                                          OK\n",
            "Extracting  train/prediction/target_predicton.csv                        \b\b\b\b 72%\b\b\b\b\b  OK \n",
            "Extracting  train/prediction/target_predicton_true.csv                   \b\b\b\b 72%\b\b\b\b\b  OK \n",
            "Extracting  train/pr_rems.parquet                                        \b\b\b\b 73%\b\b\b\b\b  OK \n",
            "Extracting  train/stations.parquet                                       \b\b\b\b 73%\b\b\b\b\b  OK \n",
            "Creating    train/target                                              OK\n",
            "Extracting  train/target/y_predict.csv                                   \b\b\b\b 73%\b\b\b\b\b  OK \n",
            "Extracting  train/target/y_predict_submit_example.csv                    \b\b\b\b 73%\b\b\b\b\b  OK \n",
            "Extracting  train/target/y_train.csv                                     \b\b\b\b 75%\b\b\b\b\b  OK \n",
            "Extracting  train/task2_base_model.ipynb                                 \b\b\b\b 75%\b\b\b\b\b  OK \n",
            "Extracting  train/tr_rems.parquet                                        \b\b\b\b 76%\b\b\b\b\b  OK \n",
            "Extracting  train/wagons_probeg_ownersip.parquet                         \b\b\b\b 86%\b\b\b\b 95%\b\b\b\b 98%\b\b\b\b\b  OK \n",
            "Extracting  train/wag_params.parquet                                     \b\b\b\b 99%\b\b\b\b\b  OK \n",
            "All OK\n"
          ]
        }
      ]
    },
    {
      "cell_type": "code",
      "source": [],
      "metadata": {
        "id": "oVR3nhhCVSsv"
      },
      "execution_count": null,
      "outputs": []
    }
  ]
}